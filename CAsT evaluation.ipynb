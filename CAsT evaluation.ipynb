{
 "cells": [
  {
   "cell_type": "markdown",
   "id": "22553f25",
   "metadata": {},
   "source": [
    "# Evaluate ColBERT on CAsT\n",
    "The current notebook turns ColBERT results to treceval format and cleans/removes CAR docs from collection for fairer comparison"
   ]
  },
  {
   "cell_type": "code",
   "execution_count": 1,
   "id": "1f41e7d1",
   "metadata": {},
   "outputs": [
    {
     "name": "stdout",
     "output_type": "stream",
     "text": [
      "Using paths for slurm\n"
     ]
    }
   ],
   "source": [
    "from paths import *\n",
    "import pandas as pd"
   ]
  },
  {
   "cell_type": "markdown",
   "id": "94be4d2f",
   "metadata": {},
   "source": [
    "###### Remove CAR docs for \"fairer\" comparison"
   ]
  },
  {
   "cell_type": "code",
   "execution_count": 26,
   "id": "fa1f29f2",
   "metadata": {},
   "outputs": [],
   "source": [
    "qrel = pd.read_csv(path_qrels19, sep=' ', header=None, names=['qid', 'Q0', 'docid', 'relevance'])"
   ]
  },
  {
   "cell_type": "code",
   "execution_count": null,
   "id": "07fde185",
   "metadata": {},
   "outputs": [],
   "source": []
  },
  {
   "cell_type": "code",
   "execution_count": 27,
   "id": "2b102bef",
   "metadata": {},
   "outputs": [],
   "source": [
    "def remove_CAR_lines(df, substr = 'CAR'):\n",
    "    \"\"\"Remove lines where at least 1 collumn starts with a specific substring\"\"\"\n",
    "    return df[~df.apply(lambda x: any(x.apply(lambda y: str(y).startswith(substr))), axis=1)]"
   ]
  },
  {
   "cell_type": "code",
   "execution_count": 28,
   "id": "283f576c",
   "metadata": {},
   "outputs": [
    {
     "data": {
      "text/html": [
       "<div>\n",
       "<style scoped>\n",
       "    .dataframe tbody tr th:only-of-type {\n",
       "        vertical-align: middle;\n",
       "    }\n",
       "\n",
       "    .dataframe tbody tr th {\n",
       "        vertical-align: top;\n",
       "    }\n",
       "\n",
       "    .dataframe thead th {\n",
       "        text-align: right;\n",
       "    }\n",
       "</style>\n",
       "<table border=\"1\" class=\"dataframe\">\n",
       "  <thead>\n",
       "    <tr style=\"text-align: right;\">\n",
       "      <th></th>\n",
       "      <th>qid</th>\n",
       "      <th>Q0</th>\n",
       "      <th>docid</th>\n",
       "      <th>relevance</th>\n",
       "    </tr>\n",
       "  </thead>\n",
       "  <tbody>\n",
       "    <tr>\n",
       "      <th>32</th>\n",
       "      <td>31_1</td>\n",
       "      <td>Q0</td>\n",
       "      <td>MARCO_1092925</td>\n",
       "      <td>3</td>\n",
       "    </tr>\n",
       "    <tr>\n",
       "      <th>33</th>\n",
       "      <td>31_1</td>\n",
       "      <td>Q0</td>\n",
       "      <td>MARCO_1092929</td>\n",
       "      <td>3</td>\n",
       "    </tr>\n",
       "    <tr>\n",
       "      <th>34</th>\n",
       "      <td>31_1</td>\n",
       "      <td>Q0</td>\n",
       "      <td>MARCO_1295084</td>\n",
       "      <td>2</td>\n",
       "    </tr>\n",
       "    <tr>\n",
       "      <th>35</th>\n",
       "      <td>31_1</td>\n",
       "      <td>Q0</td>\n",
       "      <td>MARCO_1331560</td>\n",
       "      <td>2</td>\n",
       "    </tr>\n",
       "    <tr>\n",
       "      <th>36</th>\n",
       "      <td>31_1</td>\n",
       "      <td>Q0</td>\n",
       "      <td>MARCO_1373522</td>\n",
       "      <td>4</td>\n",
       "    </tr>\n",
       "    <tr>\n",
       "      <th>37</th>\n",
       "      <td>31_1</td>\n",
       "      <td>Q0</td>\n",
       "      <td>MARCO_1462317</td>\n",
       "      <td>4</td>\n",
       "    </tr>\n",
       "    <tr>\n",
       "      <th>38</th>\n",
       "      <td>31_1</td>\n",
       "      <td>Q0</td>\n",
       "      <td>MARCO_1705591</td>\n",
       "      <td>2</td>\n",
       "    </tr>\n",
       "    <tr>\n",
       "      <th>39</th>\n",
       "      <td>31_1</td>\n",
       "      <td>Q0</td>\n",
       "      <td>MARCO_1905584</td>\n",
       "      <td>3</td>\n",
       "    </tr>\n",
       "    <tr>\n",
       "      <th>40</th>\n",
       "      <td>31_1</td>\n",
       "      <td>Q0</td>\n",
       "      <td>MARCO_1905587</td>\n",
       "      <td>4</td>\n",
       "    </tr>\n",
       "    <tr>\n",
       "      <th>41</th>\n",
       "      <td>31_1</td>\n",
       "      <td>Q0</td>\n",
       "      <td>MARCO_191050</td>\n",
       "      <td>4</td>\n",
       "    </tr>\n",
       "    <tr>\n",
       "      <th>42</th>\n",
       "      <td>31_1</td>\n",
       "      <td>Q0</td>\n",
       "      <td>MARCO_191055</td>\n",
       "      <td>2</td>\n",
       "    </tr>\n",
       "    <tr>\n",
       "      <th>43</th>\n",
       "      <td>31_1</td>\n",
       "      <td>Q0</td>\n",
       "      <td>MARCO_191056</td>\n",
       "      <td>4</td>\n",
       "    </tr>\n",
       "    <tr>\n",
       "      <th>44</th>\n",
       "      <td>31_1</td>\n",
       "      <td>Q0</td>\n",
       "      <td>MARCO_2715451</td>\n",
       "      <td>4</td>\n",
       "    </tr>\n",
       "    <tr>\n",
       "      <th>45</th>\n",
       "      <td>31_1</td>\n",
       "      <td>Q0</td>\n",
       "      <td>MARCO_291003</td>\n",
       "      <td>4</td>\n",
       "    </tr>\n",
       "    <tr>\n",
       "      <th>46</th>\n",
       "      <td>31_1</td>\n",
       "      <td>Q0</td>\n",
       "      <td>MARCO_291004</td>\n",
       "      <td>4</td>\n",
       "    </tr>\n",
       "    <tr>\n",
       "      <th>47</th>\n",
       "      <td>31_1</td>\n",
       "      <td>Q0</td>\n",
       "      <td>MARCO_291006</td>\n",
       "      <td>2</td>\n",
       "    </tr>\n",
       "    <tr>\n",
       "      <th>48</th>\n",
       "      <td>31_1</td>\n",
       "      <td>Q0</td>\n",
       "      <td>MARCO_2925879</td>\n",
       "      <td>4</td>\n",
       "    </tr>\n",
       "    <tr>\n",
       "      <th>49</th>\n",
       "      <td>31_1</td>\n",
       "      <td>Q0</td>\n",
       "      <td>MARCO_2954451</td>\n",
       "      <td>4</td>\n",
       "    </tr>\n",
       "    <tr>\n",
       "      <th>50</th>\n",
       "      <td>31_1</td>\n",
       "      <td>Q0</td>\n",
       "      <td>MARCO_3005493</td>\n",
       "      <td>2</td>\n",
       "    </tr>\n",
       "    <tr>\n",
       "      <th>51</th>\n",
       "      <td>31_1</td>\n",
       "      <td>Q0</td>\n",
       "      <td>MARCO_3090847</td>\n",
       "      <td>4</td>\n",
       "    </tr>\n",
       "  </tbody>\n",
       "</table>\n",
       "</div>"
      ],
      "text/plain": [
       "     qid  Q0          docid  relevance\n",
       "32  31_1  Q0  MARCO_1092925          3\n",
       "33  31_1  Q0  MARCO_1092929          3\n",
       "34  31_1  Q0  MARCO_1295084          2\n",
       "35  31_1  Q0  MARCO_1331560          2\n",
       "36  31_1  Q0  MARCO_1373522          4\n",
       "37  31_1  Q0  MARCO_1462317          4\n",
       "38  31_1  Q0  MARCO_1705591          2\n",
       "39  31_1  Q0  MARCO_1905584          3\n",
       "40  31_1  Q0  MARCO_1905587          4\n",
       "41  31_1  Q0   MARCO_191050          4\n",
       "42  31_1  Q0   MARCO_191055          2\n",
       "43  31_1  Q0   MARCO_191056          4\n",
       "44  31_1  Q0  MARCO_2715451          4\n",
       "45  31_1  Q0   MARCO_291003          4\n",
       "46  31_1  Q0   MARCO_291004          4\n",
       "47  31_1  Q0   MARCO_291006          2\n",
       "48  31_1  Q0  MARCO_2925879          4\n",
       "49  31_1  Q0  MARCO_2954451          4\n",
       "50  31_1  Q0  MARCO_3005493          2\n",
       "51  31_1  Q0  MARCO_3090847          4"
      ]
     },
     "execution_count": 28,
     "metadata": {},
     "output_type": "execute_result"
    }
   ],
   "source": [
    "remove_CAR_lines(qrel).head(20)"
   ]
  },
  {
   "cell_type": "code",
   "execution_count": 29,
   "id": "d456a856",
   "metadata": {
    "scrolled": true
   },
   "outputs": [
    {
     "data": {
      "text/html": [
       "<div>\n",
       "<style scoped>\n",
       "    .dataframe tbody tr th:only-of-type {\n",
       "        vertical-align: middle;\n",
       "    }\n",
       "\n",
       "    .dataframe tbody tr th {\n",
       "        vertical-align: top;\n",
       "    }\n",
       "\n",
       "    .dataframe thead th {\n",
       "        text-align: right;\n",
       "    }\n",
       "</style>\n",
       "<table border=\"1\" class=\"dataframe\">\n",
       "  <thead>\n",
       "    <tr style=\"text-align: right;\">\n",
       "      <th></th>\n",
       "      <th>qid</th>\n",
       "      <th>Q0</th>\n",
       "      <th>docid</th>\n",
       "      <th>relevance</th>\n",
       "    </tr>\n",
       "  </thead>\n",
       "  <tbody>\n",
       "    <tr>\n",
       "      <th>0</th>\n",
       "      <td>31_1</td>\n",
       "      <td>Q0</td>\n",
       "      <td>CAR_116d829c4c800c2fc70f11692fec5e8c7e975250</td>\n",
       "      <td>0</td>\n",
       "    </tr>\n",
       "    <tr>\n",
       "      <th>1</th>\n",
       "      <td>31_1</td>\n",
       "      <td>Q0</td>\n",
       "      <td>CAR_1463f964653c5c9f614a0a88d26b175e4a8120f1</td>\n",
       "      <td>1</td>\n",
       "    </tr>\n",
       "    <tr>\n",
       "      <th>2</th>\n",
       "      <td>31_1</td>\n",
       "      <td>Q0</td>\n",
       "      <td>CAR_172e16e89ea3d5546e53384a27c3be299bcfe968</td>\n",
       "      <td>2</td>\n",
       "    </tr>\n",
       "    <tr>\n",
       "      <th>3</th>\n",
       "      <td>31_1</td>\n",
       "      <td>Q0</td>\n",
       "      <td>CAR_1c93ef499a0c2856c4a857b0cb4720c380dda476</td>\n",
       "      <td>0</td>\n",
       "    </tr>\n",
       "    <tr>\n",
       "      <th>4</th>\n",
       "      <td>31_1</td>\n",
       "      <td>Q0</td>\n",
       "      <td>CAR_2174ad0aa50712ff24035c23f59a3c2b43267650</td>\n",
       "      <td>3</td>\n",
       "    </tr>\n",
       "    <tr>\n",
       "      <th>5</th>\n",
       "      <td>31_1</td>\n",
       "      <td>Q0</td>\n",
       "      <td>CAR_25a576af9caa6422f55c2acf945dc79b423fb41e</td>\n",
       "      <td>1</td>\n",
       "    </tr>\n",
       "    <tr>\n",
       "      <th>6</th>\n",
       "      <td>31_1</td>\n",
       "      <td>Q0</td>\n",
       "      <td>CAR_2dc597ac2fc10917a752552bc335e6ac1aedc3f0</td>\n",
       "      <td>2</td>\n",
       "    </tr>\n",
       "    <tr>\n",
       "      <th>7</th>\n",
       "      <td>31_1</td>\n",
       "      <td>Q0</td>\n",
       "      <td>CAR_3249e5618575a849152c02b05f4fda924f10326f</td>\n",
       "      <td>2</td>\n",
       "    </tr>\n",
       "    <tr>\n",
       "      <th>8</th>\n",
       "      <td>31_1</td>\n",
       "      <td>Q0</td>\n",
       "      <td>CAR_393cb4e18a9d30018e843c4d37c564272ec5fa6f</td>\n",
       "      <td>1</td>\n",
       "    </tr>\n",
       "    <tr>\n",
       "      <th>9</th>\n",
       "      <td>31_1</td>\n",
       "      <td>Q0</td>\n",
       "      <td>CAR_40c64256e988c8103550008f4e9b7ce436d9536d</td>\n",
       "      <td>2</td>\n",
       "    </tr>\n",
       "    <tr>\n",
       "      <th>10</th>\n",
       "      <td>31_1</td>\n",
       "      <td>Q0</td>\n",
       "      <td>CAR_41ab200340a8fcae748b366ff0b0506e6b87cefa</td>\n",
       "      <td>1</td>\n",
       "    </tr>\n",
       "    <tr>\n",
       "      <th>11</th>\n",
       "      <td>31_1</td>\n",
       "      <td>Q0</td>\n",
       "      <td>CAR_41b7dce4f8a72ee34d78c2b5c363272a54997f27</td>\n",
       "      <td>2</td>\n",
       "    </tr>\n",
       "    <tr>\n",
       "      <th>12</th>\n",
       "      <td>31_1</td>\n",
       "      <td>Q0</td>\n",
       "      <td>CAR_462db9a569840533b644a7eb3e2557a23ae8204b</td>\n",
       "      <td>0</td>\n",
       "    </tr>\n",
       "    <tr>\n",
       "      <th>13</th>\n",
       "      <td>31_1</td>\n",
       "      <td>Q0</td>\n",
       "      <td>CAR_55f68f0a33f49f6015035f70d8685e293389c9d6</td>\n",
       "      <td>2</td>\n",
       "    </tr>\n",
       "    <tr>\n",
       "      <th>14</th>\n",
       "      <td>31_1</td>\n",
       "      <td>Q0</td>\n",
       "      <td>CAR_5b50a00d9e1bd1d4ac3a973a656c1b20ab96ec1e</td>\n",
       "      <td>2</td>\n",
       "    </tr>\n",
       "    <tr>\n",
       "      <th>15</th>\n",
       "      <td>31_1</td>\n",
       "      <td>Q0</td>\n",
       "      <td>CAR_683d2822b14dca56ef1ffd93c997258c3b2cc083</td>\n",
       "      <td>2</td>\n",
       "    </tr>\n",
       "    <tr>\n",
       "      <th>16</th>\n",
       "      <td>31_1</td>\n",
       "      <td>Q0</td>\n",
       "      <td>CAR_6a057adb9ceec057f64849cacfd142afe1ea1ad8</td>\n",
       "      <td>0</td>\n",
       "    </tr>\n",
       "    <tr>\n",
       "      <th>17</th>\n",
       "      <td>31_1</td>\n",
       "      <td>Q0</td>\n",
       "      <td>CAR_6b3bbfda183e6f1b99ac397a43ba489ccb0d55a6</td>\n",
       "      <td>0</td>\n",
       "    </tr>\n",
       "    <tr>\n",
       "      <th>18</th>\n",
       "      <td>31_1</td>\n",
       "      <td>Q0</td>\n",
       "      <td>CAR_6d27d16be918eb5090e90a4bd08e459a4441529e</td>\n",
       "      <td>0</td>\n",
       "    </tr>\n",
       "    <tr>\n",
       "      <th>19</th>\n",
       "      <td>31_1</td>\n",
       "      <td>Q0</td>\n",
       "      <td>CAR_71fe664149cf06de1fcbb55dfb239f48687753c0</td>\n",
       "      <td>3</td>\n",
       "    </tr>\n",
       "    <tr>\n",
       "      <th>20</th>\n",
       "      <td>31_1</td>\n",
       "      <td>Q0</td>\n",
       "      <td>CAR_73cab8acdf22cbe0d31afa18285069bb4b3a3807</td>\n",
       "      <td>0</td>\n",
       "    </tr>\n",
       "    <tr>\n",
       "      <th>21</th>\n",
       "      <td>31_1</td>\n",
       "      <td>Q0</td>\n",
       "      <td>CAR_76a4a716d4b1b01995c6663ee16e94b4ca35fdd3</td>\n",
       "      <td>0</td>\n",
       "    </tr>\n",
       "    <tr>\n",
       "      <th>22</th>\n",
       "      <td>31_1</td>\n",
       "      <td>Q0</td>\n",
       "      <td>CAR_7b85fdb20fa85b01050fc49656cbc548d231defe</td>\n",
       "      <td>3</td>\n",
       "    </tr>\n",
       "    <tr>\n",
       "      <th>23</th>\n",
       "      <td>31_1</td>\n",
       "      <td>Q0</td>\n",
       "      <td>CAR_87d4034ad40c274e7b3a40ab7cfe5aadc2fd214c</td>\n",
       "      <td>3</td>\n",
       "    </tr>\n",
       "    <tr>\n",
       "      <th>24</th>\n",
       "      <td>31_1</td>\n",
       "      <td>Q0</td>\n",
       "      <td>CAR_8b6fd9825e935c86984b306a4595ffc11d72e8f7</td>\n",
       "      <td>0</td>\n",
       "    </tr>\n",
       "    <tr>\n",
       "      <th>25</th>\n",
       "      <td>31_1</td>\n",
       "      <td>Q0</td>\n",
       "      <td>CAR_8b8521b6835068974cc26ff1dfb3d76f84b7a504</td>\n",
       "      <td>2</td>\n",
       "    </tr>\n",
       "    <tr>\n",
       "      <th>26</th>\n",
       "      <td>31_1</td>\n",
       "      <td>Q0</td>\n",
       "      <td>CAR_92ebabc3db04d4bf31156d9db5f9d6917cac6906</td>\n",
       "      <td>0</td>\n",
       "    </tr>\n",
       "    <tr>\n",
       "      <th>27</th>\n",
       "      <td>31_1</td>\n",
       "      <td>Q0</td>\n",
       "      <td>CAR_bc285835e2ded639fa3ca767f43c8ed4bbbbdfe6</td>\n",
       "      <td>2</td>\n",
       "    </tr>\n",
       "    <tr>\n",
       "      <th>28</th>\n",
       "      <td>31_1</td>\n",
       "      <td>Q0</td>\n",
       "      <td>CAR_d37891cd657001a45ae65a1864b6af96a9b4543c</td>\n",
       "      <td>4</td>\n",
       "    </tr>\n",
       "    <tr>\n",
       "      <th>29</th>\n",
       "      <td>31_1</td>\n",
       "      <td>Q0</td>\n",
       "      <td>CAR_dbeb8cd6edbddddd97b665073523548470dffe44</td>\n",
       "      <td>2</td>\n",
       "    </tr>\n",
       "    <tr>\n",
       "      <th>30</th>\n",
       "      <td>31_1</td>\n",
       "      <td>Q0</td>\n",
       "      <td>CAR_eed3d1eb3efc8660a01023593eaf27043ac77111</td>\n",
       "      <td>1</td>\n",
       "    </tr>\n",
       "    <tr>\n",
       "      <th>31</th>\n",
       "      <td>31_1</td>\n",
       "      <td>Q0</td>\n",
       "      <td>CAR_f1665e72ddfd638bd4e9e936a5dc61cd76ff6037</td>\n",
       "      <td>2</td>\n",
       "    </tr>\n",
       "    <tr>\n",
       "      <th>32</th>\n",
       "      <td>31_1</td>\n",
       "      <td>Q0</td>\n",
       "      <td>MARCO_1092925</td>\n",
       "      <td>3</td>\n",
       "    </tr>\n",
       "    <tr>\n",
       "      <th>33</th>\n",
       "      <td>31_1</td>\n",
       "      <td>Q0</td>\n",
       "      <td>MARCO_1092929</td>\n",
       "      <td>3</td>\n",
       "    </tr>\n",
       "    <tr>\n",
       "      <th>34</th>\n",
       "      <td>31_1</td>\n",
       "      <td>Q0</td>\n",
       "      <td>MARCO_1295084</td>\n",
       "      <td>2</td>\n",
       "    </tr>\n",
       "    <tr>\n",
       "      <th>35</th>\n",
       "      <td>31_1</td>\n",
       "      <td>Q0</td>\n",
       "      <td>MARCO_1331560</td>\n",
       "      <td>2</td>\n",
       "    </tr>\n",
       "    <tr>\n",
       "      <th>36</th>\n",
       "      <td>31_1</td>\n",
       "      <td>Q0</td>\n",
       "      <td>MARCO_1373522</td>\n",
       "      <td>4</td>\n",
       "    </tr>\n",
       "    <tr>\n",
       "      <th>37</th>\n",
       "      <td>31_1</td>\n",
       "      <td>Q0</td>\n",
       "      <td>MARCO_1462317</td>\n",
       "      <td>4</td>\n",
       "    </tr>\n",
       "    <tr>\n",
       "      <th>38</th>\n",
       "      <td>31_1</td>\n",
       "      <td>Q0</td>\n",
       "      <td>MARCO_1705591</td>\n",
       "      <td>2</td>\n",
       "    </tr>\n",
       "    <tr>\n",
       "      <th>39</th>\n",
       "      <td>31_1</td>\n",
       "      <td>Q0</td>\n",
       "      <td>MARCO_1905584</td>\n",
       "      <td>3</td>\n",
       "    </tr>\n",
       "    <tr>\n",
       "      <th>40</th>\n",
       "      <td>31_1</td>\n",
       "      <td>Q0</td>\n",
       "      <td>MARCO_1905587</td>\n",
       "      <td>4</td>\n",
       "    </tr>\n",
       "    <tr>\n",
       "      <th>41</th>\n",
       "      <td>31_1</td>\n",
       "      <td>Q0</td>\n",
       "      <td>MARCO_191050</td>\n",
       "      <td>4</td>\n",
       "    </tr>\n",
       "    <tr>\n",
       "      <th>42</th>\n",
       "      <td>31_1</td>\n",
       "      <td>Q0</td>\n",
       "      <td>MARCO_191055</td>\n",
       "      <td>2</td>\n",
       "    </tr>\n",
       "    <tr>\n",
       "      <th>43</th>\n",
       "      <td>31_1</td>\n",
       "      <td>Q0</td>\n",
       "      <td>MARCO_191056</td>\n",
       "      <td>4</td>\n",
       "    </tr>\n",
       "    <tr>\n",
       "      <th>44</th>\n",
       "      <td>31_1</td>\n",
       "      <td>Q0</td>\n",
       "      <td>MARCO_2715451</td>\n",
       "      <td>4</td>\n",
       "    </tr>\n",
       "    <tr>\n",
       "      <th>45</th>\n",
       "      <td>31_1</td>\n",
       "      <td>Q0</td>\n",
       "      <td>MARCO_291003</td>\n",
       "      <td>4</td>\n",
       "    </tr>\n",
       "    <tr>\n",
       "      <th>46</th>\n",
       "      <td>31_1</td>\n",
       "      <td>Q0</td>\n",
       "      <td>MARCO_291004</td>\n",
       "      <td>4</td>\n",
       "    </tr>\n",
       "    <tr>\n",
       "      <th>47</th>\n",
       "      <td>31_1</td>\n",
       "      <td>Q0</td>\n",
       "      <td>MARCO_291006</td>\n",
       "      <td>2</td>\n",
       "    </tr>\n",
       "    <tr>\n",
       "      <th>48</th>\n",
       "      <td>31_1</td>\n",
       "      <td>Q0</td>\n",
       "      <td>MARCO_2925879</td>\n",
       "      <td>4</td>\n",
       "    </tr>\n",
       "    <tr>\n",
       "      <th>49</th>\n",
       "      <td>31_1</td>\n",
       "      <td>Q0</td>\n",
       "      <td>MARCO_2954451</td>\n",
       "      <td>4</td>\n",
       "    </tr>\n",
       "  </tbody>\n",
       "</table>\n",
       "</div>"
      ],
      "text/plain": [
       "     qid  Q0                                         docid  relevance\n",
       "0   31_1  Q0  CAR_116d829c4c800c2fc70f11692fec5e8c7e975250          0\n",
       "1   31_1  Q0  CAR_1463f964653c5c9f614a0a88d26b175e4a8120f1          1\n",
       "2   31_1  Q0  CAR_172e16e89ea3d5546e53384a27c3be299bcfe968          2\n",
       "3   31_1  Q0  CAR_1c93ef499a0c2856c4a857b0cb4720c380dda476          0\n",
       "4   31_1  Q0  CAR_2174ad0aa50712ff24035c23f59a3c2b43267650          3\n",
       "5   31_1  Q0  CAR_25a576af9caa6422f55c2acf945dc79b423fb41e          1\n",
       "6   31_1  Q0  CAR_2dc597ac2fc10917a752552bc335e6ac1aedc3f0          2\n",
       "7   31_1  Q0  CAR_3249e5618575a849152c02b05f4fda924f10326f          2\n",
       "8   31_1  Q0  CAR_393cb4e18a9d30018e843c4d37c564272ec5fa6f          1\n",
       "9   31_1  Q0  CAR_40c64256e988c8103550008f4e9b7ce436d9536d          2\n",
       "10  31_1  Q0  CAR_41ab200340a8fcae748b366ff0b0506e6b87cefa          1\n",
       "11  31_1  Q0  CAR_41b7dce4f8a72ee34d78c2b5c363272a54997f27          2\n",
       "12  31_1  Q0  CAR_462db9a569840533b644a7eb3e2557a23ae8204b          0\n",
       "13  31_1  Q0  CAR_55f68f0a33f49f6015035f70d8685e293389c9d6          2\n",
       "14  31_1  Q0  CAR_5b50a00d9e1bd1d4ac3a973a656c1b20ab96ec1e          2\n",
       "15  31_1  Q0  CAR_683d2822b14dca56ef1ffd93c997258c3b2cc083          2\n",
       "16  31_1  Q0  CAR_6a057adb9ceec057f64849cacfd142afe1ea1ad8          0\n",
       "17  31_1  Q0  CAR_6b3bbfda183e6f1b99ac397a43ba489ccb0d55a6          0\n",
       "18  31_1  Q0  CAR_6d27d16be918eb5090e90a4bd08e459a4441529e          0\n",
       "19  31_1  Q0  CAR_71fe664149cf06de1fcbb55dfb239f48687753c0          3\n",
       "20  31_1  Q0  CAR_73cab8acdf22cbe0d31afa18285069bb4b3a3807          0\n",
       "21  31_1  Q0  CAR_76a4a716d4b1b01995c6663ee16e94b4ca35fdd3          0\n",
       "22  31_1  Q0  CAR_7b85fdb20fa85b01050fc49656cbc548d231defe          3\n",
       "23  31_1  Q0  CAR_87d4034ad40c274e7b3a40ab7cfe5aadc2fd214c          3\n",
       "24  31_1  Q0  CAR_8b6fd9825e935c86984b306a4595ffc11d72e8f7          0\n",
       "25  31_1  Q0  CAR_8b8521b6835068974cc26ff1dfb3d76f84b7a504          2\n",
       "26  31_1  Q0  CAR_92ebabc3db04d4bf31156d9db5f9d6917cac6906          0\n",
       "27  31_1  Q0  CAR_bc285835e2ded639fa3ca767f43c8ed4bbbbdfe6          2\n",
       "28  31_1  Q0  CAR_d37891cd657001a45ae65a1864b6af96a9b4543c          4\n",
       "29  31_1  Q0  CAR_dbeb8cd6edbddddd97b665073523548470dffe44          2\n",
       "30  31_1  Q0  CAR_eed3d1eb3efc8660a01023593eaf27043ac77111          1\n",
       "31  31_1  Q0  CAR_f1665e72ddfd638bd4e9e936a5dc61cd76ff6037          2\n",
       "32  31_1  Q0                                 MARCO_1092925          3\n",
       "33  31_1  Q0                                 MARCO_1092929          3\n",
       "34  31_1  Q0                                 MARCO_1295084          2\n",
       "35  31_1  Q0                                 MARCO_1331560          2\n",
       "36  31_1  Q0                                 MARCO_1373522          4\n",
       "37  31_1  Q0                                 MARCO_1462317          4\n",
       "38  31_1  Q0                                 MARCO_1705591          2\n",
       "39  31_1  Q0                                 MARCO_1905584          3\n",
       "40  31_1  Q0                                 MARCO_1905587          4\n",
       "41  31_1  Q0                                  MARCO_191050          4\n",
       "42  31_1  Q0                                  MARCO_191055          2\n",
       "43  31_1  Q0                                  MARCO_191056          4\n",
       "44  31_1  Q0                                 MARCO_2715451          4\n",
       "45  31_1  Q0                                  MARCO_291003          4\n",
       "46  31_1  Q0                                  MARCO_291004          4\n",
       "47  31_1  Q0                                  MARCO_291006          2\n",
       "48  31_1  Q0                                 MARCO_2925879          4\n",
       "49  31_1  Q0                                 MARCO_2954451          4"
      ]
     },
     "execution_count": 29,
     "metadata": {},
     "output_type": "execute_result"
    }
   ],
   "source": [
    "qrel.head(50)"
   ]
  },
  {
   "cell_type": "code",
   "execution_count": 30,
   "id": "c53e336e",
   "metadata": {},
   "outputs": [],
   "source": [
    "qrel_no_CAR = remove_CAR_lines(qrel)"
   ]
  },
  {
   "cell_type": "code",
   "execution_count": 31,
   "id": "ba752070",
   "metadata": {},
   "outputs": [],
   "source": [
    "new_qrel_path = '/ivi/ilps/personal/akrasak/data/cqa-rewrite/qrels/2019qrels_MARCO.txt'\n",
    "qrel_no_CAR.to_csv(new_qrel_path, header=None, index=False, sep=' ')"
   ]
  },
  {
   "cell_type": "code",
   "execution_count": 32,
   "id": "d003ca34",
   "metadata": {},
   "outputs": [
    {
     "name": "stdout",
     "output_type": "stream",
     "text": [
      "31_1 Q0 CAR_116d829c4c800c2fc70f11692fec5e8c7e975250 0\r\n",
      "31_1 Q0 CAR_1463f964653c5c9f614a0a88d26b175e4a8120f1 1\r\n",
      "31_1 Q0 CAR_172e16e89ea3d5546e53384a27c3be299bcfe968 2\r\n",
      "31_1 Q0 CAR_1c93ef499a0c2856c4a857b0cb4720c380dda476 0\r\n",
      "31_1 Q0 CAR_2174ad0aa50712ff24035c23f59a3c2b43267650 3\r\n",
      "31_1 Q0 CAR_25a576af9caa6422f55c2acf945dc79b423fb41e 1\r\n",
      "31_1 Q0 CAR_2dc597ac2fc10917a752552bc335e6ac1aedc3f0 2\r\n",
      "31_1 Q0 CAR_3249e5618575a849152c02b05f4fda924f10326f 2\r\n",
      "31_1 Q0 CAR_393cb4e18a9d30018e843c4d37c564272ec5fa6f 1\r\n",
      "31_1 Q0 CAR_40c64256e988c8103550008f4e9b7ce436d9536d 2\r\n"
     ]
    }
   ],
   "source": [
    "!head {path_qrels19}"
   ]
  },
  {
   "cell_type": "code",
   "execution_count": 33,
   "id": "355f8118",
   "metadata": {},
   "outputs": [
    {
     "name": "stdout",
     "output_type": "stream",
     "text": [
      "31_1 Q0 MARCO_1092925 3\r\n",
      "31_1 Q0 MARCO_1092929 3\r\n",
      "31_1 Q0 MARCO_1295084 2\r\n",
      "31_1 Q0 MARCO_1331560 2\r\n",
      "31_1 Q0 MARCO_1373522 4\r\n",
      "31_1 Q0 MARCO_1462317 4\r\n",
      "31_1 Q0 MARCO_1705591 2\r\n",
      "31_1 Q0 MARCO_1905584 3\r\n",
      "31_1 Q0 MARCO_1905587 4\r\n",
      "31_1 Q0 MARCO_191050 4\r\n"
     ]
    }
   ],
   "source": [
    "!head {new_qrel_path}"
   ]
  },
  {
   "cell_type": "code",
   "execution_count": null,
   "id": "5120d483",
   "metadata": {},
   "outputs": [],
   "source": []
  },
  {
   "cell_type": "markdown",
   "id": "5c76f9df",
   "metadata": {},
   "source": [
    "##### Fix rankings"
   ]
  },
  {
   "cell_type": "code",
   "execution_count": 2,
   "id": "4f136157",
   "metadata": {},
   "outputs": [],
   "source": [
    "path_ranking = '/home/akrasak/cqa-rewrite/ColBERT/cast19-full-raw/rerank.py/2021-06-14_17.09.13/ranking.tsv'"
   ]
  },
  {
   "cell_type": "code",
   "execution_count": 3,
   "id": "27eb4335",
   "metadata": {},
   "outputs": [],
   "source": [
    "ranking = pd.read_csv(path_ranking, sep='\\t', names=['qid','docid','rank', 'score'])"
   ]
  },
  {
   "cell_type": "code",
   "execution_count": null,
   "id": "49c00c5a",
   "metadata": {},
   "outputs": [],
   "source": []
  },
  {
   "cell_type": "code",
   "execution_count": 4,
   "id": "e75725ba",
   "metadata": {},
   "outputs": [],
   "source": [
    "new_path_ranking = path_ranking+'.corrQid'"
   ]
  },
  {
   "cell_type": "code",
   "execution_count": 5,
   "id": "6dbeb87b",
   "metadata": {},
   "outputs": [
    {
     "data": {
      "text/plain": [
       "'/home/akrasak/cqa-rewrite/ColBERT/cast19-full-raw/rerank.py/2021-06-14_17.09.13/ranking.tsv.corrQid'"
      ]
     },
     "execution_count": 5,
     "metadata": {},
     "output_type": "execute_result"
    }
   ],
   "source": [
    "new_path_ranking"
   ]
  },
  {
   "cell_type": "code",
   "execution_count": 6,
   "id": "beb749d4",
   "metadata": {},
   "outputs": [
    {
     "data": {
      "text/html": [
       "<div>\n",
       "<style scoped>\n",
       "    .dataframe tbody tr th:only-of-type {\n",
       "        vertical-align: middle;\n",
       "    }\n",
       "\n",
       "    .dataframe tbody tr th {\n",
       "        vertical-align: top;\n",
       "    }\n",
       "\n",
       "    .dataframe thead th {\n",
       "        text-align: right;\n",
       "    }\n",
       "</style>\n",
       "<table border=\"1\" class=\"dataframe\">\n",
       "  <thead>\n",
       "    <tr style=\"text-align: right;\">\n",
       "      <th></th>\n",
       "      <th>qid</th>\n",
       "      <th>docid</th>\n",
       "      <th>rank</th>\n",
       "      <th>score</th>\n",
       "    </tr>\n",
       "  </thead>\n",
       "  <tbody>\n",
       "    <tr>\n",
       "      <th>0</th>\n",
       "      <td>311</td>\n",
       "      <td>3878347</td>\n",
       "      <td>1</td>\n",
       "      <td>28.403404</td>\n",
       "    </tr>\n",
       "    <tr>\n",
       "      <th>1</th>\n",
       "      <td>311</td>\n",
       "      <td>789620</td>\n",
       "      <td>2</td>\n",
       "      <td>28.341249</td>\n",
       "    </tr>\n",
       "    <tr>\n",
       "      <th>2</th>\n",
       "      <td>311</td>\n",
       "      <td>1373522</td>\n",
       "      <td>3</td>\n",
       "      <td>28.144932</td>\n",
       "    </tr>\n",
       "    <tr>\n",
       "      <th>3</th>\n",
       "      <td>311</td>\n",
       "      <td>5990560</td>\n",
       "      <td>4</td>\n",
       "      <td>28.142456</td>\n",
       "    </tr>\n",
       "    <tr>\n",
       "      <th>4</th>\n",
       "      <td>311</td>\n",
       "      <td>291003</td>\n",
       "      <td>5</td>\n",
       "      <td>28.141003</td>\n",
       "    </tr>\n",
       "  </tbody>\n",
       "</table>\n",
       "</div>"
      ],
      "text/plain": [
       "   qid    docid  rank      score\n",
       "0  311  3878347     1  28.403404\n",
       "1  311   789620     2  28.341249\n",
       "2  311  1373522     3  28.144932\n",
       "3  311  5990560     4  28.142456\n",
       "4  311   291003     5  28.141003"
      ]
     },
     "execution_count": 6,
     "metadata": {},
     "output_type": "execute_result"
    }
   ],
   "source": [
    "ranking.head()"
   ]
  },
  {
   "cell_type": "code",
   "execution_count": 7,
   "id": "2c5b71ba",
   "metadata": {},
   "outputs": [
    {
     "name": "stdout",
     "output_type": "stream",
     "text": [
      "Nr of digits (of qids) in rankfiles\n"
     ]
    },
    {
     "data": {
      "text/plain": [
       "3    438\n",
       "4     41\n",
       "dtype: int64"
      ]
     },
     "execution_count": 7,
     "metadata": {},
     "output_type": "execute_result"
    }
   ],
   "source": [
    "print(\"Nr of digits (of qids) in rankfiles\")\n",
    "pd.Series(ranking.qid.unique()).astype(str).apply(lambda x: len(x)).value_counts()"
   ]
  },
  {
   "cell_type": "code",
   "execution_count": 8,
   "id": "3efbb368",
   "metadata": {},
   "outputs": [],
   "source": [
    "ranking['new_qid'] = ranking.qid.apply(lambda x: str(x)[:2]+'_'+str(x)[2:])\n",
    "ranking['new_docid'] = ranking.docid.apply(lambda x: \"MARCO_\"+str(x))\n",
    "\n",
    "ranking['Q0'] = \"Q0\"\n",
    "ranking['run'] = \"run\""
   ]
  },
  {
   "cell_type": "code",
   "execution_count": null,
   "id": "2e041918",
   "metadata": {},
   "outputs": [],
   "source": []
  },
  {
   "cell_type": "code",
   "execution_count": 9,
   "id": "ff038569",
   "metadata": {
    "scrolled": true
   },
   "outputs": [],
   "source": [
    "ranking[['new_qid', \"Q0\", 'new_docid', 'rank', 'score','run']].to_csv(new_path_ranking,\n",
    "                                                     sep = '\\t', index=False, header=None)"
   ]
  },
  {
   "cell_type": "code",
   "execution_count": 10,
   "id": "f5c3e0ec",
   "metadata": {},
   "outputs": [
    {
     "name": "stdout",
     "output_type": "stream",
     "text": [
      "311\t3878347\t1\t28.403404235839844\r\n",
      "311\t789620\t2\t28.341249465942383\r\n",
      "311\t1373522\t3\t28.14493179321289\r\n",
      "311\t5990560\t4\t28.1424560546875\r\n",
      "311\t291003\t5\t28.141002655029297\r\n",
      "311\t2715451\t6\t28.130250930786133\r\n",
      "311\t2954451\t7\t27.93891716003418\r\n",
      "311\t7972824\t8\t27.89083480834961\r\n",
      "311\t3090847\t9\t27.726974487304688\r\n",
      "311\t3990603\t10\t27.49917221069336\r\n"
     ]
    }
   ],
   "source": [
    "!head {path_ranking}"
   ]
  },
  {
   "cell_type": "code",
   "execution_count": 11,
   "id": "4f95fd6d",
   "metadata": {},
   "outputs": [
    {
     "name": "stdout",
     "output_type": "stream",
     "text": [
      "31_1\tQ0\tMARCO_3878347\t1\t28.403404235839844\trun\r\n",
      "31_1\tQ0\tMARCO_789620\t2\t28.341249465942383\trun\r\n",
      "31_1\tQ0\tMARCO_1373522\t3\t28.14493179321289\trun\r\n",
      "31_1\tQ0\tMARCO_5990560\t4\t28.1424560546875\trun\r\n",
      "31_1\tQ0\tMARCO_291003\t5\t28.141002655029297\trun\r\n",
      "31_1\tQ0\tMARCO_2715451\t6\t28.130250930786133\trun\r\n",
      "31_1\tQ0\tMARCO_2954451\t7\t27.93891716003418\trun\r\n",
      "31_1\tQ0\tMARCO_7972824\t8\t27.89083480834961\trun\r\n",
      "31_1\tQ0\tMARCO_3090847\t9\t27.726974487304688\trun\r\n",
      "31_1\tQ0\tMARCO_3990603\t10\t27.49917221069336\trun\r\n"
     ]
    }
   ],
   "source": [
    "!head {new_path_ranking}"
   ]
  },
  {
   "cell_type": "code",
   "execution_count": 12,
   "id": "8f4cd0a9",
   "metadata": {},
   "outputs": [
    {
     "name": "stdout",
     "output_type": "stream",
     "text": [
      "31_1 Q0 MARCO_789620 1 0.9973957538604736 myrun \r\n",
      "31_1 Q0 MARCO_3878347 2 0.9971708655357361 myrun \r\n",
      "31_1 Q0 MARCO_5990560 3 0.9954023361206055 myrun \r\n",
      "31_1 Q0 MARCO_3990603 4 0.995257556438446 myrun \r\n",
      "31_1 Q0 MARCO_1373522 5 0.9951298236846924 myrun \r\n",
      "31_1 Q0 MARCO_291003 6 0.99498051404953 myrun \r\n",
      "31_1 Q0 MARCO_2715451 7 0.9943578839302063 myrun \r\n",
      "31_1 Q0 MARCO_2954451 8 0.9927147030830383 myrun \r\n",
      "31_1 Q0 MARCO_7972824 9 0.9925351142883301 myrun \r\n",
      "31_1 Q0 MARCO_3090847 10 0.9919316172599792 myrun \r\n"
     ]
    }
   ],
   "source": [
    "!head ../cast_evaluation/runs/2019/52_Quretec_Q_reranked.txt"
   ]
  },
  {
   "cell_type": "code",
   "execution_count": 13,
   "id": "6718cb7c",
   "metadata": {},
   "outputs": [
    {
     "name": "stdout",
     "output_type": "stream",
     "text": [
      "31_1\tQ0\tMARCO_3878347\t1\t28.403404235839844\trun\r\n",
      "31_1\tQ0\tMARCO_789620\t2\t28.341249465942383\trun\r\n",
      "31_1\tQ0\tMARCO_1373522\t3\t28.14493179321289\trun\r\n",
      "31_1\tQ0\tMARCO_5990560\t4\t28.1424560546875\trun\r\n",
      "31_1\tQ0\tMARCO_291003\t5\t28.141002655029297\trun\r\n",
      "31_1\tQ0\tMARCO_2715451\t6\t28.130250930786133\trun\r\n",
      "31_1\tQ0\tMARCO_2954451\t7\t27.93891716003418\trun\r\n",
      "31_1\tQ0\tMARCO_7972824\t8\t27.89083480834961\trun\r\n",
      "31_1\tQ0\tMARCO_3090847\t9\t27.726974487304688\trun\r\n",
      "31_1\tQ0\tMARCO_3990603\t10\t27.49917221069336\trun\r\n"
     ]
    }
   ],
   "source": [
    "!head /home/akrasak/cqa-rewrite/ColBERT/cast19-raw/rerank.py/2021-06-11_16.35.05/ranking.tsv.corrQid"
   ]
  },
  {
   "cell_type": "code",
   "execution_count": null,
   "id": "af7edc67",
   "metadata": {},
   "outputs": [],
   "source": []
  },
  {
   "cell_type": "markdown",
   "id": "7ed5719a",
   "metadata": {},
   "source": [
    "# Evaluation"
   ]
  },
  {
   "cell_type": "markdown",
   "id": "85cd4797",
   "metadata": {},
   "source": [
    "`trec_eval -m recall.1000 -m map -m recip_rank -m ndcg_cut.3 -c '/ivi/ilps/personal/akrasak/data/cqa-rewrite/qrels/2019qrels_MARCO.txt' '/home/akrasak/cqa-rewrite/ColBERT/cast19-raw/rerank.py/2021-06-11_16.35.05/ranking.tsv.corrQid'`"
   ]
  },
  {
   "cell_type": "code",
   "execution_count": null,
   "id": "4672631f",
   "metadata": {},
   "outputs": [],
   "source": []
  },
  {
   "cell_type": "code",
   "execution_count": 87,
   "id": "683578f9",
   "metadata": {},
   "outputs": [],
   "source": [
    "path_run_last_turn = '/home/akrasak/cqa-rewrite/ColBERT/cast19-raw/rerank.py/2021-06-11_16.35.05/ranking.tsv.corrQid'\n",
    "path_all_turns = \"/home/akrasak/cqa-rewrite/ColBERT/cast19-full-raw/rerank.py/2021-06-14_17.09.13/ranking.tsv.corrQid\""
   ]
  },
  {
   "cell_type": "code",
   "execution_count": 93,
   "id": "78e7a5c2",
   "metadata": {},
   "outputs": [
    {
     "name": "stdout",
     "output_type": "stream",
     "text": [
      "/bin/bash: python ../evaluator_ranking.py --filepath_ranking '/home/akrasak/cqa-rewrite/ColBERT/cast19-raw/rerank.py/2021-06-11_16.35.05/ranking.tsv.corrQid'  --filepath_qrel '/ivi/ilps/personal/akrasak/data/cqa-rewrite/qrels/2019qrels_MARCO.txt' : No such file or directory\r\n"
     ]
    }
   ],
   "source": [
    "!python ../evaluator_ranking.py --filepath_ranking '{path_run_last_turn}'  --filepath_qrel '{new_qrel_path}' \""
   ]
  },
  {
   "cell_type": "code",
   "execution_count": null,
   "id": "429e854d",
   "metadata": {},
   "outputs": [],
   "source": [
    "python ../evaluator_ranking.py --filepath_ranking '/home/akrasak/cqa-rewrite/ColBERT/cast19-raw/rerank.py/2021-06-11_16.35.05/ranking.tsv.corrQid'  --filepath_qrel '/ivi/ilps/personal/akrasak/data/cqa-rewrite/qrels/2019qrels_MARCO.txt'"
   ]
  },
  {
   "cell_type": "code",
   "execution_count": null,
   "id": "4dbc23b0",
   "metadata": {},
   "outputs": [],
   "source": []
  },
  {
   "cell_type": "code",
   "execution_count": 36,
   "id": "fe24bf7e",
   "metadata": {},
   "outputs": [
    {
     "data": {
      "text/plain": [
       "'/ivi/ilps/personal/akrasak/data/cqa-rewrite/qrels/2019qrels_MARCO.txt'"
      ]
     },
     "execution_count": 36,
     "metadata": {},
     "output_type": "execute_result"
    }
   ],
   "source": [
    "new_qrel_path"
   ]
  },
  {
   "cell_type": "code",
   "execution_count": 37,
   "id": "bf29f6c8",
   "metadata": {},
   "outputs": [
    {
     "data": {
      "text/plain": [
       "'/home/akrasak/cqa-rewrite/ColBERT/cast19-raw/rerank.py/2021-06-11_16.35.05/ranking.tsv'"
      ]
     },
     "execution_count": 37,
     "metadata": {},
     "output_type": "execute_result"
    }
   ],
   "source": [
    "path_run_last_turn"
   ]
  },
  {
   "cell_type": "code",
   "execution_count": null,
   "id": "b70dc824",
   "metadata": {},
   "outputs": [],
   "source": [
    "../evaluator_ranking.py --filepath_qrel '/ivi/ilps/personal/akrasak/data/cqa-rewrite/qrels/2019qrels_MARCO.txt' --filepath_ranking '/home/akrasak/cqa-rewrite/ColBERT/cast19-raw/rerank.py/2021-06-11_16.35.05/ranking.tsv"
   ]
  }
 ],
 "metadata": {
  "kernelspec": {
   "display_name": "Python 3",
   "language": "python",
   "name": "python3"
  },
  "language_info": {
   "codemirror_mode": {
    "name": "ipython",
    "version": 3
   },
   "file_extension": ".py",
   "mimetype": "text/x-python",
   "name": "python",
   "nbconvert_exporter": "python",
   "pygments_lexer": "ipython3",
   "version": "3.7.10"
  }
 },
 "nbformat": 4,
 "nbformat_minor": 5
}
