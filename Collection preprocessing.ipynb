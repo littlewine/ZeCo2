{
 "cells": [
  {
   "cell_type": "code",
   "execution_count": 16,
   "id": "31cdc2f8",
   "metadata": {},
   "outputs": [
    {
     "name": "stdout",
     "output_type": "stream",
     "text": [
      "Requirement already satisfied: jsonlines in /home/akrasak/anaconda3/envs/treccast/lib/python3.7/site-packages (2.0.0)\r\n",
      "Requirement already satisfied: justext in /home/akrasak/anaconda3/envs/treccast/lib/python3.7/site-packages (2.2.0)\r\n",
      "Requirement already satisfied: lxml>=2.2.4 in /home/akrasak/anaconda3/envs/treccast/lib/python3.7/site-packages (from justext) (4.6.3)\r\n"
     ]
    }
   ],
   "source": [
    "!pip install jsonlines justext"
   ]
  },
  {
   "cell_type": "code",
   "execution_count": 4,
   "id": "268db6c0",
   "metadata": {},
   "outputs": [],
   "source": [
    "# !pip install justext"
   ]
  },
  {
   "cell_type": "code",
   "execution_count": 7,
   "id": "2f824bfa",
   "metadata": {},
   "outputs": [],
   "source": [
    "!conda install -c laura-dietz cbor=1.0.0 "
   ]
  },
  {
   "cell_type": "code",
   "execution_count": 8,
   "id": "51ad9ddb",
   "metadata": {},
   "outputs": [],
   "source": [
    "import transformers"
   ]
  },
  {
   "cell_type": "code",
   "execution_count": null,
   "id": "a8c75827",
   "metadata": {},
   "outputs": [],
   "source": []
  },
  {
   "cell_type": "markdown",
   "id": "bfd5e615",
   "metadata": {},
   "source": [
    "#### Washington post"
   ]
  },
  {
   "cell_type": "code",
   "execution_count": 25,
   "id": "97144b69",
   "metadata": {},
   "outputs": [],
   "source": [
    "import jsonlines\n",
    "import justext\n",
    "import numpy as np"
   ]
  },
  {
   "cell_type": "code",
   "execution_count": 26,
   "id": "399b6283",
   "metadata": {},
   "outputs": [
    {
     "name": "stdout",
     "output_type": "stream",
     "text": [
      "Loading: https://www.washingtonpost.com/local/bubbly-planet-venus-starts-off-new-year/2011/12/30/gIQAlbm4SP_story.html\n",
      "\n"
     ]
    }
   ],
   "source": [
    "corpus_path = '/ivi/ilps/personal/akrasak/data/collections/WashingtonPost.v4/data/TREC_Washington_Post_collection.v4.jl'\n",
    "with jsonlines.open(corpus_path) as reader:\n",
    "    for obj in reader:\n",
    "        \n",
    "        if np.random.randint(0,5)==1:\n",
    "            break\n",
    "            \n",
    "print('Loading:',obj['article_url'])\n",
    "print()\n",
    "# print(obj)\n"
   ]
  },
  {
   "cell_type": "code",
   "execution_count": null,
   "id": "ccc43c3a",
   "metadata": {},
   "outputs": [],
   "source": []
  },
  {
   "cell_type": "code",
   "execution_count": 28,
   "id": "679384a8",
   "metadata": {
    "scrolled": true
   },
   "outputs": [
    {
     "name": "stdout",
     "output_type": "stream",
     "text": [
      "Local\n",
      "\n",
      "Bubbly planet Venus starts off New Year\n",
      "\n",
      "By Blaine P. Friedlander Jr.\n",
      "\n",
      "2012-01-01T00:12:09Z\n",
      "\n",
      "Set down your champagne and gaze west, as the bubbly planet <b>Venus</b> kicks off Sunday night’s first evening of the New Year.\n",
      "\n",
      "See this splendid planet about 23 degrees above southwestern horizon at sunset. You can’t miss this ultrabright beacon — about negative fourth magnitude — skimming over the treetops. By mid-January, Venus hangs 30 degrees above the horizon at sunset, and the planet sets about 8:10 p.m.\n",
      "\n",
      "On Jan. 24, a waxing young moon begins to ascend toward Venus in the western heavens. The lunar crescent sneaks closer to alluring Venus on Jan. 25, and by the evening of Jan. 26, the moon has passed by our neighbor planet.\n",
      "\n",
      "Like a 1950s teenager at a diner, <b>Jupiter</b> loiters in the east-southeast sky at dusk, in the Aries constellation. It’s a negative second magnitude (very bright) object. The waxing gibbous moon approaches this large planet Sunday and snuggles closer Monday evening. By Tuesday, the moon has passed Jupiter, but have no fear, we get an “instant replay” from Jan. 28-31.\n",
      "\n",
      "Bright enough to see from the light-polluted Washington area, <b>Mars</b> and <b>Saturn</b>, both zero magnitude objects, become the New Year’s late-night revelers. The reddish Mars rises just before midnight now in the east. A few hours later, at 1:30 a.m., the ringed Saturn ascends the east-southeast. By late January, both planets loiter in the Virgo constellation, as Mars will rise about 9 p.m. and Saturn appears just before midnight.\n",
      "\n",
      "Find fleet <b>Mercury</b> now before sunrise in the southeast, in the constellation <b>Ophiuchus</b>, hugging the horizon.\n",
      "\n",
      "With hot coffee, toast the Baby 2012 by viewing the <b>Quadrantids</b> meteor shower peak early Wednesday morning. The big, fat moon sets at 3:15 a.m., so very early risers could catch some falling stars between then and sunrise. The International Meteor Organization (<a class=\"show\" href=\"http://www.imo.net\">www.imo.net</a>) says the hourly rate could be 120, but, in all honesty, you’ll be lucky to spot a handful. If you spy them, they appear to emanate from the near the Big Dipper and Little Dipper constellations in the northeast. You might see a few errant Quadrantids up to Jan. 12, according to the IMO.\n",
      "\n",
      "Down-to-Earth events:\n",
      "\n",
      "Jan. 5 — “How Do Astronomers Know How Big Asteroids Are?” a lecture by astronomer Melissa Hayes-Gehrke, at the open house, University of Maryland Observatory, College Park. Weather permitting, see the night sky through telescopes after the lecture. 8 p.m., 301-405-6555. <a class=\"show\" href=\"http://www.astro.umd.edu/openhouse/\">www.astro.<br align=\"block\" />umd.edu/</a> <a class=\"show\" href=\"http://www.astro.umd.edu/openhouse/\">openhouse.</a>\n",
      "\n",
      "Jan. 8 — “A Survey of Star Atlases,” presented by astronomer Cal Powell at the Northern Virginia Astronomy Club meeting, Room 80, Enterprise Hall, George Mason University, Fairfax. 7 p.m. <a class=\"show\" href=\"http://www.novac.com\">www.novac.com</a>.\n",
      "\n",
      "Jan. 14 — Guy Brandenburg explains “Making Your Own Telescope” at the National Capital Astronomers meeting, University of Maryland Observatory, College Park. 7:30 p.m. <a class=\"show\" href=\"http://www.capitalastronomers.org\">www.capital<br align=\"block\" />astronomers.org</a>.\n",
      "\n",
      "Jan. 14 — Stargazing at the National Air and Space Museum’s Public Observatory, adjacent to the museum building. 6:45 p.m. National Air and Space Museum, National Mall. Free. <a class=\"show\" href=\"http://www.nasm.si.edu\">www.nasm.<br align=\"block\" />si.edu</a>.\n",
      "\n",
      "Jan. 20 — Anne Lohfink, an astronomer who researches the physics of compact cosmic objects and their surroundings, speaks at the open house, University of Maryland Observatory, College Park. View the heavens through telescopes after lecture, weather permitting. 8 p.m. 301-405-6555. <a class=\"show\" href=\"http://www.astro.umd.edu/openhouse/\">www.astro.umd.edu/openhouse</a>.\n",
      "\n",
      "Jan. 28 — Neither Bieber nor Bono compare to authentic stars: “How Are Stars Born?” at the Montgomery College Planetarium, Takoma Park. 7 p.m. <a class=\"show\" href=\"http://www.montgomerycollege.edu/Departments/planet/\">www.montgomerycollege.edu/<br align=\"block\" />departments/planet/.</a>\n",
      "\n",
      "<a class=\"show\" href=\"http://www.montgomerycollege.edu/Departments/planet/\"></a>Jan. 28 — “Sand Dunes Throughout the Solar System,” a lecture by geologist Jim Zimbelman of the Smithsonian Center for Earth and Planetary Studies. This is part of the Smithsonian’s Stars Lecture Series. 5:45 p.m., Albert Einstein Planetarium, National Air and Space Museum, the Mall. After the presentation, stargazing at the museum’s public observatory (about 6:45 p.m.) <a class=\"show\" href=\"http://www.nasm.si.edu\">www.nasm.si.edu</a> <i>.</i>\n",
      "\n",
      "Blaine Friedlander can be reached at <a class=\"show\" href=\"mailto:PostSkyWatch@gmail.com\">PostSkyWatch@gmail.com</a>.\n",
      "\n"
     ]
    }
   ],
   "source": [
    "# print(f\"{obj['id']}\\t{obj['title']}\")\n",
    "for a in obj['contents']:\n",
    "    if 'content' in a.keys():\n",
    "        print(a['content'])\n",
    "        print(\"\")"
   ]
  },
  {
   "cell_type": "code",
   "execution_count": null,
   "id": "e0f96d6e",
   "metadata": {},
   "outputs": [],
   "source": []
  },
  {
   "cell_type": "markdown",
   "id": "c34662c4",
   "metadata": {},
   "source": [
    "##### with BS"
   ]
  },
  {
   "cell_type": "code",
   "execution_count": 117,
   "id": "e9afab4e",
   "metadata": {},
   "outputs": [],
   "source": [
    "from bs4 import BeautifulSoup"
   ]
  },
  {
   "cell_type": "code",
   "execution_count": null,
   "id": "61b35f72",
   "metadata": {},
   "outputs": [],
   "source": []
  },
  {
   "cell_type": "code",
   "execution_count": 118,
   "id": "e2c90098",
   "metadata": {},
   "outputs": [
    {
     "name": "stdout",
     "output_type": "stream",
     "text": [
      "Local\n",
      "As homicides fall in D.C., rise in Prince George’s, numbers meet in the middle\n",
      "By Allison Klein and Matt Zapotosky\n",
      "2012-01-01T01:37:52Z\n",
      "Correction: An earlier version of this article misstated the Prince George’s County Police Department’s homicide closure rate for 2011. The rate was 66 percent, not 63 percent. In addition, because of incomplete information provided by Fairfax County police, the article and an accompanying graphic misstated the number of homicides in that county. There were 11, not eight. The number for Prince William County was also incorrect; it included two cases that were ruled justified. That county had four criminal homicides, according to police, not six. And D.C. police say that one of the 109 homicides recorded in the city in 2011 will be considered a 2012 case because the medical examiner did not issue a ruling until Jan. 1. This version has been corrected.\n",
      "The District and Prince George’s County had nearly the same number of homicides in 2011, a major departure from a high 20 years ago, when the city saw 325 more slayings than the county.\n",
      "It is a shift that reflects a double-digit drop in killings in the District from 2010 to 2011, with an especially noticeable downward trend in the most stubborn crime zones east of the Anacostia River. Just across the border, though, the homicide count in the neighboring communities in Prince George’s is surging, and the county as a whole saw a slight increase last year.\n",
      "There were 97 slayings in Prince George’s in 2011, four more killings than in 2010. In the District, the year saw 108 homicides, down from 132 in 2010 and the lowest homicide total in the city since 1963.\n",
      "“We share many of the same issues,” said D.C. Police Chief Cathy L. Lanier. “Quite a few of our victims come from Prince George’s County.”\n",
      "The police department’s 7th District east of the Anacostia River — neighborhoods including Barry Farm and Congress Heights — saw its annual homicide count drop 55 percent, with 24 fewer killings in 2011. Neighborhoods across the border in Prince George’s 4th District — including Hillcrest Heights and Oxon Hill-Glassmanor — saw their count more than double, up by 21 slayings.\n",
      "Law enforcement officials said the trend along the Prince George’s border reflects problems that migrated with those who left the District for inside-the-Beltway county neighborhoods, including issues connected with poverty and long-simmering neighborhood disputes.\n",
      "Some D.C. residents who still see frequent violence in their neighborhoods are weary, and say there’s not much to celebrate in the city’s declining homicide numbers.\n",
      "“I’m slow to get too excited,” said the Rev. Donald Isaac, executive director of the East of the River Clergy, Police, Community Partnership. “As soon as you begin to celebrate, it can reverse so quickly.”\n",
      "Prince George’s Police Chief Mark Magaw said crime has long run “back and forth” between the District and Prince George’s, and he has pushed this year for increased cooperation between the two police departments.\n",
      "“It’s one big community now,” he said. “No longer do we have the luxury of saying, ‘We only have to worry up to Southern Avenue,’ ” one of the borders between the city and county.\n",
      "Though killings in both the District and Prince George’s averaged about two per week during 2011, overall violent crime in the city fell by 10 percent and in the county by 12 percent.\n",
      "But the city had a 6 percent jump in property crime, largely due to a growing problem with thieves grabbing smartphones, computer tablets and other electronic devices from people and cars. “Snatching electronics is the battle of the century,” Lanier said. “It’s the single biggest problem I have in term of numbers.”\n",
      "Aiming for fewer than 100\n",
      "Mayor Vincent C. Gray (D) said that the decline in homicides in the District is encouraging and that the city should work to try to get to fewer than 100 slayings in 2012.\n",
      "“When people see crime going down like this, especially homicides, they are going to feel safer,” Gray said. “My sense is that people do feel safer. On the other hand, when you still see north of 100 homicides in the city, even though it’s a stark reduction, people are going to continue to be concerned about it. Some additional vigilance is going to serve you well, too.”\n",
      "Killings in the District have fallen rapidly in recent years, with 2011 bringing the lowest number of slayings in nearly 50 years.\n",
      "“When I started here in 1990, the two things that used to really bother me was that we were known as the murder capital of the world and the city of unsolved homicides,” Lanier said. “Our detectives and our police officers have done an amazing job turning that around. We are no longer either one of those things.”\n",
      "Homicides in Prince George’s have been generally trending downward as well, though at a slower pace.\n",
      "The rest of the region’s suburbs have far fewer homicides than the District and Prince George’s, with most counties recording 2011 homicide numbers roughly unchanged from the prior year. Fairfax County was an exception, with a decrease from 16 to 11.\n",
      "Though Montgomery County had just 16 homicides in 2011, in March it saw one of the year’s highest-profile murders in the region when Brittany Norwood, an employee at a Bethesda Lululemon yoga store, fatally bludgeoned and stabbed a co-worker, Jayna Murray.\n",
      "And in the wealthier neighborhoods of Northwest Washington, where homicides are rare, three killings drew wide attention: a teen was shot on a busy street in Georgetown on Halloween night; socialite Viola Drath was killed in her Georgetown rowhouse in August, allegedly by her husband; and in November, a man was gunned down outside a nightclub in Dupont Circle.\n",
      "The Northeast quadrant of the city, covered by the 4th and 5th districts, ended the year with a combined eight more killings than in 2010.\n",
      "Area crime watchers say they’ve seen violence steadily shift from the District into Prince George’s.\n",
      "The migration of many of the District’s poorer residents to inside-the-Beltway communities in Prince George’s has been happening for years, fueled by the District tearing down some public housing, said former D.C. police chief Isaac Fulwood Jr., who led the department in the early 1990s, when the city had nearly 500 homicides a year.\n",
      "That shift has had lasting effects, he said.\n",
      "“People from D.C. that had to move tended to move to Prince George’s County, and they took with them the things that poverty brings: Lack of access to everything,” said Fulwood, who is now chairman of the U.S. Parole Commission.\n",
      "The Prince George’s police department, which has more than 2,000 fewer officers than in the District, was left to deal with neighborhood disputes that people brought with them, as well as new beefs created in the large apartment complexes in Prince George’s.\n",
      "“Alabama Avenue, Stanton Road subsidized housing, all of that is gone,” Prince George’s Deputy Chief Craig Howard said. “Now when you ride through those areas, there are townhouses, single-family homes.”\n",
      "Last year’s killings in Prince George’s did not seem to follow any common thread, officials said. Young men and women sometimes killed one another in petty disputes.\n",
      "The majority of the killings in Prince George’s happen inside the Beltway, a more urban setting than the rest of the county. Because Prince George’s has a larger overall population than the District, its homicide rate was lower than the city’s, with about 11 killings per 100,000 residents, compared with about 17 per 100,000 residents in the District.\n",
      "Closing cases\n",
      "Across the nation during the first half of last year, the homicide count increased by about 1 percent for cities the size of the District, and remained the same for counties such as Prince George’s, according to FBI crime statistics.\n",
      "Lanier, who hoped to have fewer than 100 homicides in the District in 2011, said she remains frustrated by the numbers. “We’re not where we need to be until we have less than 50,” she said.\n",
      "The Washington Post’s homicide count includes criminal killings within the borders of the city or the county, but does not include killings that officials have ruled justified. Prince George’s homicide numbers last year included one killing investigated by Laurel police and one on the Bowie State University campus.\n",
      "Lanier said the District had fewer gang-related homicides than in prior years. Most killings happened amid personal disputes, often stemming from squabbles at nightclubs where people had been drinking, she said.\n",
      "She added that her department’s homicide closure rate is about 94 percent, which sends a message to criminals.\n",
      "“Word travels pretty quickly when a homicide happens and an arrest is made,” Lanier said. “Your risk of being caught is pretty high if you commit a homicide in D.C.”\n",
      "Prince George’s police’s homicide closure rate was 66 percent last year, a slight increase over 2010.\n",
      "In Prince George’s, 16 people were killed in January, including a teenager who used to cook eggs for his 3-year-old brother, an ice cream truck driver and a University of Maryland student who tutored athletes. But by year’s end, overall crime had dropped compared with 2010, with violent crime down about 12 percent and property crime down about 10 percent.\n",
      "Lanier’s biggest success was in the 7th District, which has regularly led the city in killings and some other crimes. In 1993, the 7th District alone had 133 homicides. Last year it had 20.\n",
      "“A lot of it is the officers being out there, being visible,” 7th District Commander Joel Maupin said. He said officers continue to take guns off the streets, and often blanket neighborhoods with extra patrols when they get a tip that violence might be coming.\n",
      "It is essential, he said, to make arrests in crimes such as robberies and burglaries because it prevents future violence.\n",
      "“Removing these individuals from the streets and doing it quickly reduces crime,” Maupin said.\n",
      "Isaac, the clergyman who works in the same neighborhoods as Maupin, said his group visits every family that loses someone to violence, offering burial support, grief counseling and other services. “Even if you have one homicide a month, it’s impacting out there,” Isaac said.\n",
      "Staff writer Mike DeBonis contributed to this report.\n",
      "Read more local news from The Washington Post:\n",
      "Robert McCartney: What will happen in 2012?\n",
      "In Va., an abundance of offbeat bills\n",
      "Metrobus employees: Tight schedules don’t allow for bathroom breaks\n",
      "Vincent Gray focuses on future after tough first year in office\n"
     ]
    }
   ],
   "source": [
    "# print(f\"{obj['id']}\\t{obj['title']}\")\n",
    "for a in obj['contents']:\n",
    "    if 'content' in a.keys():\n",
    "        soup = BeautifulSoup(a['content'], 'lxml')\n",
    "\n",
    "        print(soup.get_text())\n"
   ]
  },
  {
   "cell_type": "markdown",
   "id": "6d36068f",
   "metadata": {},
   "source": [
    "###### [x] BeautifulSoup does the trick for WaPo v4! "
   ]
  },
  {
   "cell_type": "markdown",
   "id": "7dde4a4c",
   "metadata": {},
   "source": [
    "# TODO: do the preprocessing convert to tsv!!\n",
    "\n"
   ]
  },
  {
   "cell_type": "code",
   "execution_count": 119,
   "id": "7696ecd3",
   "metadata": {},
   "outputs": [
    {
     "name": "stdout",
     "output_type": "stream",
     "text": [
      "0\tThe presence of communication amid scientific minds was equally important to the success of the Manhattan Project as scientific intellect was. The only cloud hanging over the impressive achievement of the atomic researchers and engineers is what their success truly meant; hundreds of thousands of innocent lives obliterated.\r\n",
      "1\tThe Manhattan Project and its atomic bomb helped bring an end to World War II. Its legacy of peaceful uses of atomic energy continues to have an impact on history and science.\r\n",
      "2\tEssay on The Manhattan Project - The Manhattan Project The Manhattan Project was to see if making an atomic bomb possible. The success of this project would forever change the world forever making it known that something this powerful can be manmade.\r\n",
      "3\tThe Manhattan Project was the name for a project conducted during World War II, to develop the first atomic bomb. It refers specifically to the period of the project from 194 â¦ 2-1946 under the control of the U.S. Army Corps of Engineers, under the administration of General Leslie R. Groves.\r\n",
      "4\tversions of each volume as well as complementary websites. The first websiteâThe Manhattan Project: An Interactive Historyâis available on the Office of History and Heritage Resources website, http://www.cfo. doe.gov/me70/history. The Office of History and Heritage Resources and the National Nuclear Security\r\n",
      "5\tThe Manhattan Project. This once classified photograph features the first atomic bomb â a weapon that atomic scientists had nicknamed Gadget.. The nuclear age began on July 16, 1945, when it was detonated in the New Mexico desert.\r\n",
      "6\tNor will it attempt to substitute for the extraordinarily rich literature on the atomic bombs and the end of World War II. This collection does not attempt to document the origins and development of the Manhattan Project.\r\n",
      "7\tManhattan Project. The Manhattan Project was a research and development undertaking during World War II that produced the first nuclear weapons. It was led by the United States with the support of the United Kingdom and Canada. From 1942 to 1946, the project was under the direction of Major General Leslie Groves of the U.S. Army Corps of Engineers. Nuclear physicist Robert Oppenheimer was the director of the Los Alamos Laboratory that designed the actual bombs. The Army component of the project was designated the\r\n",
      "8\tIn June 1942, the United States Army Corps of Engineersbegan the Manhattan Project- The secret name for the 2 atomic bombs.\r\n",
      "9\tOne of the main reasons Hanford was selected as a site for the Manhattan Project's B Reactor was its proximity to the Columbia River, the largest river flowing into the Pacific Ocean from the North American coast.\r\n"
     ]
    }
   ],
   "source": [
    "!head /ivi/ilps/personal/akrasak/data/collections/msmarco-passage/collection.tsv"
   ]
  },
  {
   "cell_type": "code",
   "execution_count": null,
   "id": "bfe49f8d",
   "metadata": {},
   "outputs": [],
   "source": []
  },
  {
   "cell_type": "code",
   "execution_count": 120,
   "id": "8666f98f",
   "metadata": {},
   "outputs": [
    {
     "name": "stdout",
     "output_type": "stream",
     "text": [
      "8841823 /ivi/ilps/personal/akrasak/data/collections/msmarco-passage/collection.tsv\r\n"
     ]
    }
   ],
   "source": [
    "!wc -l /ivi/ilps/personal/akrasak/data/collections/msmarco-passage/collection.tsv"
   ]
  },
  {
   "cell_type": "code",
   "execution_count": null,
   "id": "3d56eaed",
   "metadata": {},
   "outputs": [],
   "source": []
  },
  {
   "cell_type": "markdown",
   "id": "11b1335a",
   "metadata": {},
   "source": [
    "# Preprocess wikipedia cbor"
   ]
  },
  {
   "cell_type": "code",
   "execution_count": 10,
   "id": "206a41fd",
   "metadata": {},
   "outputs": [
    {
     "name": "stdout",
     "output_type": "stream",
     "text": [
      "enwiki2020.cbor  enwiki2020.cbor.toc  enwiki2020.titles  LICENSE  README.mkd\r\n"
     ]
    }
   ],
   "source": [
    "!ls /ivi/ilps/personal/akrasak/data/collections/car-wiki2020-01-01"
   ]
  },
  {
   "cell_type": "code",
   "execution_count": 124,
   "id": "f320a5d8",
   "metadata": {},
   "outputs": [
    {
     "name": "stdout",
     "output_type": "stream",
     "text": [
      "This data set is part of the TREC CAR dataset version v2.4.\r\n",
      "\r\n",
      "The dataset is a converted Wikipedia dump from 01/01/2000. No pages are\r\n",
      "filtered (if you are familiar with the TREC CAR term \"allButBenchmark\", this dump would be an\r\n",
      "\"all\", including pages of other TREC CAR benchmarks).\r\n",
      "\r\n",
      "The dump contains 7,893,275 articles (no redirects and disambiguation pages, as\r\n",
      "these are incorporated into their respective articles)\r\n",
      "\r\n",
      "Paragraph IDs that existed in other TREC CAR may also be contained here. There\r\n",
      "is no deduplication among new paragraphs, potentially leading to redundancies.\r\n",
      "\r\n",
      "Contained files:\r\n",
      "\r\n",
      "- enwiki2020.cbor: Machine-readable Wiki content, please use trec-car-tools for reading. \r\n",
      "- enwiki2020.cbor.toc: Byte offsets to pages by page title (as a CBOR list)\r\n",
      "- enwiki2020.titles: List of page titles contained in this dump (UTF-8)\r\n",
      "- README.mkd: this file\r\n",
      "- LICENSE: Creative Commons license text\r\n",
      "\r\n",
      "NEW: this dump includes infoboxes, as well as page metadata (categories, redirects, disambiguation, and inlinks)\r\n",
      "\r\n",
      "Read the \\*cbor file with trec-car-tools.\r\n",
      "\r\n",
      "Python: [Pypi v2.5.2](https://pypi.org/project/trec-car-tools/)\r\n",
      "Python: [Anaconda v2.5.2](https://anaconda.org/laura-dietz/trec-car-tools). \r\n",
      "Java: [v18](https://github.com/TREMA-UNH/trec-car-tools-java/tree/18)\r\n",
      "\r\n",
      "Note: You have to upgrade to the lastest version of the trec-car-tools bindings. Older versions will not work, because they don't handle CBORs with infoboxes.\r\n",
      "\r\n",
      "More information about the data schema on the [trec-car-tools git\r\n",
      "repo](https://github.com/TREMA-UNH/trec-car-tools)\r\n",
      "\r\n",
      "Maven dependency via jitpack:\r\n",
      "\r\n",
      "```\r\n",
      "  <repositories>\r\n",
      "        <repository>\r\n",
      "            <id>jitpack.io</id>\r\n",
      "            <url>https://jitpack.io</url>\r\n",
      "        </repository>\r\n",
      "    </repositories>\r\n",
      "\r\n",
      "    <dependencies>\r\n",
      "  \t    <dependency>\r\n",
      "            <groupId>com.github.TREMA-UNH</groupId>\r\n",
      "            <artifactId>trec-car-tools-java</artifactId>\r\n",
      "            <version>18</version>\r\n",
      "        </dependency>\r\n",
      "        <dependency>\r\n",
      "            <groupId>co.nstant.in</groupId>\r\n",
      "            <artifactId>cbor</artifactId>\r\n",
      "            <version>0.9</version>\r\n",
      "        </dependency>\r\n",
      "    [...]\r\n",
      "```\r\n",
      "\r\n",
      "    \r\n",
      "  infoboxes are preserved in the CBOR, the current tre-car-tools are not\r\n",
      "exposing them. New trec-car-tools versions will offer them, these will be\r\n",
      "released soon. Please follow [v2.4 Wikidump release\r\n",
      "page](http://trec-car.cs.unh.edu/datareleases/v2.4-release.html) for updates\r\n",
      "and errata.\r\n",
      "\r\n",
      "\r\n",
      "The included TREC CAR data sets by Laura Dietz, Ben Gamari available\r\n",
      "at trec-car.cs.unh.edu are provided under a <a rel=\"license\"\r\n",
      "href=\"http://creativecommons.org/licenses/by-sa/3.0/deed.en_US\">Creative\r\n",
      "Commons Attribution-ShareAlike 3.0 Unported License</a>. The data is\r\n",
      "based on content extracted from www.Wikipedia.org that is licensed\r\n",
      "under the Creative Commons Attribution-ShareAlike 3.0 Unported\r\n",
      "License.\r\n",
      "\r\n",
      "mediawiki-annotate: ff2ed7a181666cb11accb8b425d6280dbee922bf\r\n",
      " in git repos git@github.com:bgamari/mediawiki-annotate\r\n",
      "\r\n",
      "\r\n",
      "build system: `9f89334a377456c1bf105e196d61e8fdcacad2f8` in git repos\r\n",
      "`git@github.com:TREMA-UNH/trec-car-release`\r\n"
     ]
    }
   ],
   "source": [
    "!head -100 /ivi/ilps/personal/akrasak/data/collections/car-wiki2020-01-01/README.mkd"
   ]
  },
  {
   "cell_type": "code",
   "execution_count": 11,
   "id": "9f0bd06e",
   "metadata": {},
   "outputs": [
    {
     "name": "stdout",
     "output_type": "stream",
     "text": [
      "Collecting trec-car-tools\n",
      "  Using cached trec_car_tools-2.5.4-py3-none-any.whl (8.1 kB)\n",
      "Requirement already satisfied: numpy>=1.11.2 in /home/akrasak/anaconda3/envs/treccast/lib/python3.7/site-packages (from trec-car-tools) (1.19.5)\n",
      "Requirement already satisfied: cbor>=1.0.0 in /home/akrasak/anaconda3/envs/treccast/lib/python3.7/site-packages (from trec-car-tools) (1.0.0)\n",
      "Installing collected packages: trec-car-tools\n",
      "Successfully installed trec-car-tools-2.5.4\n"
     ]
    }
   ],
   "source": [
    "!pip install trec-car-tools"
   ]
  },
  {
   "cell_type": "code",
   "execution_count": 6,
   "id": "bdcf92b0",
   "metadata": {},
   "outputs": [],
   "source": [
    "car_data_path1 = '/ivi/ilps/personal/akrasak/data/collections/car-wiki2020-01-01/enwiki2020.cbor'\n",
    "car_data_path2 = '/ivi/ilps/personal/akrasak/data/collections/car-wiki2020-01-01/enwiki2020.titles'\n",
    "\n",
    "car_old_cbor_path = \"/ivi/ilps/personal/akrasak/data/collections/paragraphCorpus/dedup.articles-paragraphs.cbor\""
   ]
  },
  {
   "cell_type": "code",
   "execution_count": 4,
   "id": "d907c622",
   "metadata": {},
   "outputs": [
    {
     "name": "stdout",
     "output_type": "stream",
     "text": [
      "Anarchism\r\n",
      "Albedo\r\n",
      "Autism\r\n",
      "A\r\n",
      "Achilles\r\n",
      "Alabama\r\n",
      "Abraham Lincoln\r\n",
      "An American in Paris\r\n",
      "Aristotle\r\n",
      "Academy Award for Best Production Design\r\n"
     ]
    }
   ],
   "source": [
    "!head /ivi/ilps/personal/akrasak/data/collections/car-wiki2020-01-01/enwiki2020.titles"
   ]
  },
  {
   "cell_type": "code",
   "execution_count": 8,
   "id": "130b54f1",
   "metadata": {},
   "outputs": [],
   "source": [
    "from trec_car import read_data"
   ]
  },
  {
   "cell_type": "code",
   "execution_count": 18,
   "id": "98d1a1bf",
   "metadata": {},
   "outputs": [
    {
     "name": "stdout",
     "output_type": "stream",
     "text": [
      "Page(Anarchism)\n",
      "enwiki:Anarchism\n"
     ]
    }
   ],
   "source": [
    "for page in read_data.iter_annotations(open(car_data_path1, 'rb')):\n",
    "    print(page)\n",
    "    break\n",
    "print(page.page_id)"
   ]
  },
  {
   "cell_type": "code",
   "execution_count": 17,
   "id": "a0c24358",
   "metadata": {},
   "outputs": [
    {
     "ename": "NameError",
     "evalue": "name 'page' is not defined",
     "output_type": "error",
     "traceback": [
      "\u001b[0;31m---------------------------------------------------------------------------\u001b[0m",
      "\u001b[0;31mNameError\u001b[0m                                 Traceback (most recent call last)",
      "\u001b[0;32m<ipython-input-17-2079c093fb56>\u001b[0m in \u001b[0;36m<module>\u001b[0;34m\u001b[0m\n\u001b[0;32m----> 1\u001b[0;31m \u001b[0ms\u001b[0m \u001b[0;34m=\u001b[0m \u001b[0mpage\u001b[0m\u001b[0;34m.\u001b[0m\u001b[0mchild_sections\u001b[0m\u001b[0;34m[\u001b[0m\u001b[0;36m0\u001b[0m\u001b[0;34m]\u001b[0m\u001b[0;34m\u001b[0m\u001b[0;34m\u001b[0m\u001b[0m\n\u001b[0m",
      "\u001b[0;31mNameError\u001b[0m: name 'page' is not defined"
     ]
    }
   ],
   "source": [
    "s = page.child_sections[0]"
   ]
  },
  {
   "cell_type": "code",
   "execution_count": 24,
   "id": "7f28fcc7",
   "metadata": {},
   "outputs": [
    {
     "data": {
      "text/plain": [
       "'The etymological origin of the word anarchism is from the ancient Greek word anarkhia,  meaning \"without a ruler\", composed of the prefix a- (i.e. \"without\") and the word arkhos (i.e. \"leader\" or \"ruler\"). The suffix -ism denotes the ideological current that favours anarchy. The word anarchism appears in English from 1642 as anarchisme and the word anarchy from 1539. Various factions within the French Revolution labelled their opponents as anarchists, although few such accused shared many views with later anarchists. Many revolutionaries of the 19th century such as William Godwin (1756–1836) and Wilhelm Weitling (1808–1871) would contribute to the anarchist doctrines of the next generation, but they did not use the word anarchist or anarchism in describing themselves or their beliefs.\\nThe first political philosopher to call himself an anarchist () was Pierre-Joseph Proudhon (1809–1865), marking the formal birth of anarchism in the mid-19th century. Since the 1890s and beginning in France, the term libertarianism has often been used as a synonym for anarchism and its use as a synonym is still common outside the United States. On the other hand, some use libertarianism to refer to individualistic free-market philosophy only, referring to free-market anarchism as libertarian anarchism.\\nWhile opposition to the state is central to anarchist thought, defining anarchism is not an easy task as there is a lot of talk among scholars and anarchists on the matter and various currents perceive anarchism slightly differently. Hence, it might be true to say that anarchism is a cluster of political philosophies opposing authority and hierarchical organization (including the state,  capitalism,  nationalism and all associated institutions) in the conduct of all human relations in favour of a society based on voluntary association, on freedom and on decentralisation, but this definition has the same shortcomings as the definition based on etymology (which is simply a negation of a ruler), or based on anti-statism (anarchism is much more than that) or even the anti-authoritarian (which is an a posteriori conclusion).\\nNonetheless, major elements of the definition of anarchism include the following:\\nThe will for a non-coercive society.\\nThe rejection of the state apparatus.\\nThe belief that human nature allows humans to exist in or progress toward such a non-coercive society.\\nA suggestion on how to act to pursue the ideal of anarchy.'"
      ]
     },
     "execution_count": 24,
     "metadata": {},
     "output_type": "execute_result"
    }
   ],
   "source": [
    "s.get_text_with_headings()"
   ]
  },
  {
   "cell_type": "markdown",
   "id": "735ebf28",
   "metadata": {},
   "source": [
    "##### old cbor"
   ]
  },
  {
   "cell_type": "code",
   "execution_count": 21,
   "id": "8c5fe534",
   "metadata": {},
   "outputs": [
    {
     "data": {
      "text/plain": [
       "'/ivi/ilps/personal/akrasak/data/collections/paragraphCorpus/dedup.articles-paragraphs.cbor'"
      ]
     },
     "execution_count": 21,
     "metadata": {},
     "output_type": "execute_result"
    }
   ],
   "source": [
    "car_old_cbor_path"
   ]
  },
  {
   "cell_type": "code",
   "execution_count": 23,
   "id": "5845c4d6",
   "metadata": {},
   "outputs": [
    {
     "name": "stdout",
     "output_type": "stream",
     "text": [
      "dedup.articles-paragraphs.cbor\tLICENSE  README.mkd\r\n"
     ]
    }
   ],
   "source": [
    "!ls /ivi/ilps/personal/akrasak/data/collections/paragraphCorpus"
   ]
  },
  {
   "cell_type": "code",
   "execution_count": 24,
   "id": "154d9395",
   "metadata": {},
   "outputs": [
    {
     "name": "stdout",
     "output_type": "stream",
     "text": [
      "This data set is part of the TREC CAR dataset version v2.0.\r\n",
      "\r\n",
      "The included TREC CAR data sets by Laura Dietz, Ben Gamari available\r\n",
      "at trec-car.cs.unh.edu are provided under a <a rel=\"license\"\r\n",
      "href=\"http://creativecommons.org/licenses/by-sa/3.0/deed.en_US\">Creative\r\n",
      "Commons Attribution-ShareAlike 3.0 Unported License</a>. The data is\r\n",
      "based on content extracted from www.Wikipedia.org that is licensed\r\n",
      "under the Creative Commons Attribution-ShareAlike 3.0 Unported\r\n",
      "License.\r\n",
      "\r\n"
     ]
    }
   ],
   "source": [
    "!head /ivi/ilps/personal/akrasak/data/collections/paragraphCorpus/README.mkd\n",
    "\\"
   ]
  },
  {
   "cell_type": "code",
   "execution_count": null,
   "id": "23639824",
   "metadata": {},
   "outputs": [],
   "source": []
  },
  {
   "cell_type": "code",
   "execution_count": null,
   "id": "14dfb01f",
   "metadata": {},
   "outputs": [],
   "source": []
  },
  {
   "cell_type": "code",
   "execution_count": 19,
   "id": "91b57fb6",
   "metadata": {},
   "outputs": [
    {
     "ename": "WrongCarFileException",
     "evalue": "Open method does not support CAR file type: 2. Instead expect following CAR file types: [0, 1]",
     "output_type": "error",
     "traceback": [
      "\u001b[0;31m---------------------------------------------------------------------------\u001b[0m",
      "\u001b[0;31mWrongCarFileException\u001b[0m                     Traceback (most recent call last)",
      "\u001b[0;32m<ipython-input-19-9a3cf993901e>\u001b[0m in \u001b[0;36m<module>\u001b[0;34m\u001b[0m\n\u001b[0;32m----> 1\u001b[0;31m \u001b[0;32mfor\u001b[0m \u001b[0mpage\u001b[0m \u001b[0;32min\u001b[0m \u001b[0mread_data\u001b[0m\u001b[0;34m.\u001b[0m\u001b[0miter_annotations\u001b[0m\u001b[0;34m(\u001b[0m\u001b[0mopen\u001b[0m\u001b[0;34m(\u001b[0m\u001b[0mcar_old_cbor_path\u001b[0m\u001b[0;34m,\u001b[0m \u001b[0;34m'rb'\u001b[0m\u001b[0;34m)\u001b[0m\u001b[0;34m)\u001b[0m\u001b[0;34m:\u001b[0m\u001b[0;34m\u001b[0m\u001b[0;34m\u001b[0m\u001b[0m\n\u001b[0m\u001b[1;32m      2\u001b[0m     \u001b[0mprint\u001b[0m\u001b[0;34m(\u001b[0m\u001b[0mpage\u001b[0m\u001b[0;34m)\u001b[0m\u001b[0;34m\u001b[0m\u001b[0;34m\u001b[0m\u001b[0m\n\u001b[1;32m      3\u001b[0m     \u001b[0;32mbreak\u001b[0m\u001b[0;34m\u001b[0m\u001b[0;34m\u001b[0m\u001b[0m\n\u001b[1;32m      4\u001b[0m \u001b[0mprint\u001b[0m\u001b[0;34m(\u001b[0m\u001b[0mpage\u001b[0m\u001b[0;34m.\u001b[0m\u001b[0mpage_id\u001b[0m\u001b[0;34m)\u001b[0m\u001b[0;34m\u001b[0m\u001b[0;34m\u001b[0m\u001b[0m\n",
      "\u001b[0;32m~/anaconda3/envs/treccast/lib/python3.7/site-packages/trec_car/read_data.py\u001b[0m in \u001b[0;36m_iter_with_header\u001b[0;34m(file, parse, expected_file_types)\u001b[0m\n\u001b[1;32m    680\u001b[0m             \u001b[0;31m# print( 'File type tag is expected to be ', (\" \".join(expected_file_types)), 'but given file is of type ', file_type)\u001b[0m\u001b[0;34m\u001b[0m\u001b[0;34m\u001b[0m\u001b[0;34m\u001b[0m\u001b[0m\n\u001b[1;32m    681\u001b[0m             \u001b[0;31m# print('Did not expect file of type', file_type)\u001b[0m\u001b[0;34m\u001b[0m\u001b[0;34m\u001b[0m\u001b[0;34m\u001b[0m\u001b[0m\n\u001b[0;32m--> 682\u001b[0;31m             \u001b[0;32mraise\u001b[0m \u001b[0mWrongCarFileException\u001b[0m\u001b[0;34m(\u001b[0m\u001b[0mfile_type\u001b[0m\u001b[0;34m,\u001b[0m \u001b[0mexpected_file_types\u001b[0m\u001b[0;34m)\u001b[0m\u001b[0;34m\u001b[0m\u001b[0;34m\u001b[0m\u001b[0m\n\u001b[0m\u001b[1;32m    683\u001b[0m \u001b[0;34m\u001b[0m\u001b[0m\n\u001b[1;32m    684\u001b[0m         \u001b[0;31m# read beginning of variable-length list\u001b[0m\u001b[0;34m\u001b[0m\u001b[0;34m\u001b[0m\u001b[0;34m\u001b[0m\u001b[0m\n",
      "\u001b[0;31mWrongCarFileException\u001b[0m: Open method does not support CAR file type: 2. Instead expect following CAR file types: [0, 1]"
     ]
    }
   ],
   "source": [
    "for page in read_data.iter_annotations(open(car_old_cbor_path, 'rb')):\n",
    "    print(page)\n",
    "    break\n",
    "print(page.page_id)"
   ]
  },
  {
   "cell_type": "code",
   "execution_count": 15,
   "id": "2c23f157",
   "metadata": {},
   "outputs": [],
   "source": [
    "page"
   ]
  },
  {
   "cell_type": "code",
   "execution_count": null,
   "id": "40dce6f1",
   "metadata": {},
   "outputs": [],
   "source": [
    "page."
   ]
  },
  {
   "cell_type": "markdown",
   "id": "c6880868",
   "metadata": {},
   "source": [
    "# Document ids"
   ]
  },
  {
   "cell_type": "markdown",
   "id": "7a7ce8a0",
   "metadata": {},
   "source": [
    "[Note about docids]:\n",
    "\n",
    "The paragraph ids are: standard provided by MARCO and CAR. For WAPO the paragraph ID is [article_id-paragraph_index] where the paragraph_index is the starting from 1-based index of the paragraph using the provided paragraph markup separated by a single dash."
   ]
  },
  {
   "cell_type": "code",
   "execution_count": null,
   "id": "96e8c8eb",
   "metadata": {},
   "outputs": [],
   "source": []
  },
  {
   "cell_type": "code",
   "execution_count": 31,
   "id": "df217e9a",
   "metadata": {},
   "outputs": [
    {
     "name": "stdout",
     "output_type": "stream",
     "text": [
      "81_1 0 CAR_3add84966af079ed84e8b2fc412ad1dc27800127 1\r\n",
      "81_1 0 CAR_5fa30140b395d7fead223e2bca8cc9b608bb51b4 0\r\n",
      "81_1 0 CAR_aa2504ce1af15bace5d96daecf4ff491ffd39ae7 1\r\n",
      "81_1 0 CAR_c35739b96d529a5dd18c97a95154670f7416c9ef 0\r\n",
      "81_1 0 MARCO_1104225 2\r\n",
      "81_1 0 MARCO_1104229 0\r\n",
      "81_1 0 MARCO_1244105 0\r\n",
      "81_1 0 MARCO_1293772 0\r\n",
      "81_1 0 MARCO_1381079 0\r\n",
      "81_1 0 MARCO_1381086 1\r\n"
     ]
    }
   ],
   "source": [
    "!head $BULK/data/cqa-rewrite/qrels/2020qrels.txt"
   ]
  },
  {
   "cell_type": "code",
   "execution_count": 33,
   "id": "2ce9d484",
   "metadata": {},
   "outputs": [
    {
     "name": "stdout",
     "output_type": "stream",
     "text": [
      "8841813\tA normal distribution is symmetric about the mean. Skew is a measure of how much the bell-curve for your data set is heavy on one side. A normal distribution also has a specific width for a given height. If you double the height, the width scales proportionally. However, you could imagine stretching a bell curve out in weird ways without changing its symmetry.\r\n",
      "8841814\tIf several shells are used at a time, at least one of them is likely to be oriented correctly. Pattern shells were first used in the early 1990s in Washington D.C. to greet Desert Storm troops upon their arrival home. The patterns that were used there were purple hearts and yellow bows, Heckman said.\r\n",
      "8841815\t1 First, so that fireworks go where you intend to and don't fly in a random direction, causing fires, property damage, or injuries. 2  Second, because it helps display organizers to position firework effects with accuracy and precision.\r\n",
      "8841816\tWhen metal salts are ignited, they release energy in the form of light. Shorter wavelengths of light (400 to 500 nanometers) produce violet and blue colors while longer wavelengths of light (600 to 700 nanometers) produce orange and red colors.\r\n",
      "8841817\tThat's chemistry too! Fireworks get their color from metal compounds (also known as metal salts) packed inside. You probably know that if you burn metals in a hot flame (such as a Bunsen burner in a school laboratory), they glow with very intense colorsâ that's exactly what's happening in fireworks.\r\n",
      "8841818\tWhen metal salts emit short wavelengths of visible light in the range of 400 to 500 nanometers, they produce violet and blue colors. When metal salts emit longer wavelengths of visible light in the range of 600 to 700 nanometers, they produce orange and red colors.\r\n",
      "8841819\tThousands of people across the United States will be celebrating Independence Day on July 4 by attending a fireworks display. The red, orange, yellow, green, blue and purple colors exploding in the night sky during a fireworks display are created by the use of metal salts. Photo credit: Jeff Golden. In chemistry, a salt is defined as an ionic compound that is formed from the reaction of an acid and a base.\r\n",
      "8841820\tThe recipe that creates blue, for example, includes varying amounts of copper chloride compounds, while red comes from strontium and lithium salts. Just like paints, secondary colors are made by mixing the ingredients of their primary-color relatives. A mixture of copper (blue) and strontium (red) makes purple.\r\n",
      "8841821\tOn Independence Days of yore, old-timey crowds were dazzled by a mere sprinkle or two of off-white lights. Later generations oohed-and-aahed at more colorful displays, as chemical combos were developed that could light up the sky in Technicolor. The march of progress in pyrotechnics didn't stop there, though.\r\n",
      "8841822\tView full size image. Behind the scenes of the dazzling light shows that spectators ooh and ahh at on the Fourth of July, are carefully crafted fireworks. Whether red, white and blue fountains or purple sparklers, each firework is packed with just the right mix of chemicals to create these colorful lights. Inside each handmade firework are small packets filled with special chemicals, mainly metal salts and metal oxides, which react to produce an array of colors.\r\n"
     ]
    }
   ],
   "source": [
    "!tail /ivi/ilps/personal/akrasak/data/collections/msmarco-passage/collection.tsv"
   ]
  },
  {
   "cell_type": "code",
   "execution_count": null,
   "id": "50e3d7c8",
   "metadata": {},
   "outputs": [],
   "source": [
    "collection.tsv"
   ]
  },
  {
   "cell_type": "code",
   "execution_count": null,
   "id": "77ca42f2",
   "metadata": {},
   "outputs": [],
   "source": []
  }
 ],
 "metadata": {
  "kernelspec": {
   "display_name": "Python 3",
   "language": "python",
   "name": "python3"
  },
  "language_info": {
   "codemirror_mode": {
    "name": "ipython",
    "version": 3
   },
   "file_extension": ".py",
   "mimetype": "text/x-python",
   "name": "python",
   "nbconvert_exporter": "python",
   "pygments_lexer": "ipython3",
   "version": "3.7.10"
  }
 },
 "nbformat": 4,
 "nbformat_minor": 5
}
